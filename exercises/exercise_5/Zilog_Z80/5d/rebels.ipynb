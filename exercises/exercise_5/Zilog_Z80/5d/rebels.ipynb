{
 "cells": [
  {
   "cell_type": "code",
   "execution_count": null,
   "metadata": {},
   "outputs": [],
   "source": []
  },
  {
   "cell_type": "code",
   "execution_count": 47,
   "metadata": {},
   "outputs": [],
   "source": [
    "import tensorflow as tf\n",
    "from tensorflow.keras import layers\n",
    "from tensorflow.keras import losses\n",
    "from tensorflow.keras import preprocessing\n",
    "from tensorflow.keras.layers import TextVectorization\n",
    "from tensorflow.keras.callbacks import EarlyStopping\n",
    "import string\n",
    "import re\n",
    "import numpy as np\n",
    "import pandas as pd\n",
    "from sklearn.model_selection import train_test_split\n",
    "from sklearn.feature_extraction.text import TfidfVectorizer\n",
    "from sklearn.linear_model import LogisticRegression\n",
    "from sklearn.metrics import classification_report\n",
    "\n",
    "import joblib\n",
    "\n",
    "\n"
   ]
  },
  {
   "cell_type": "markdown",
   "metadata": {},
   "source": [
    "Import file(s)"
   ]
  },
  {
   "cell_type": "code",
   "execution_count": 48,
   "metadata": {},
   "outputs": [],
   "source": [
    "train_dataset = pd.read_csv(\"datasets/Labelled_1997_2017/HanDeSeT.csv\")\n",
    "\n"
   ]
  },
  {
   "cell_type": "code",
   "execution_count": 49,
   "metadata": {},
   "outputs": [],
   "source": [
    "train_dataset['Concat'] = train_dataset['utt1'].fillna('') + ' ' + train_dataset['utt2'].fillna('') + ' ' + train_dataset['utt3'].fillna('') + ' ' + train_dataset['utt4'].fillna('') + ' ' + train_dataset['utt5'].fillna('')\n",
    "\n"
   ]
  },
  {
   "cell_type": "code",
   "execution_count": 50,
   "metadata": {},
   "outputs": [
    {
     "data": {
      "text/html": [
       "<div>\n",
       "<style scoped>\n",
       "    .dataframe tbody tr th:only-of-type {\n",
       "        vertical-align: middle;\n",
       "    }\n",
       "\n",
       "    .dataframe tbody tr th {\n",
       "        vertical-align: top;\n",
       "    }\n",
       "\n",
       "    .dataframe thead th {\n",
       "        text-align: right;\n",
       "    }\n",
       "</style>\n",
       "<table border=\"1\" class=\"dataframe\">\n",
       "  <thead>\n",
       "    <tr style=\"text-align: right;\">\n",
       "      <th></th>\n",
       "      <th>manual motion</th>\n",
       "      <th>govt/opp motion</th>\n",
       "      <th>motion party affiliation</th>\n",
       "      <th>manual speech</th>\n",
       "      <th>vote speech</th>\n",
       "      <th>name</th>\n",
       "      <th>rebellion %</th>\n",
       "      <th>Concat</th>\n",
       "    </tr>\n",
       "  </thead>\n",
       "  <tbody>\n",
       "    <tr>\n",
       "      <th>0</th>\n",
       "      <td>1</td>\n",
       "      <td>1</td>\n",
       "      <td>Lab</td>\n",
       "      <td>0</td>\n",
       "      <td>0</td>\n",
       "      <td>Kevin McNamara</td>\n",
       "      <td>3.2</td>\n",
       "      <td>I trust that the House will not feel that ther...</td>\n",
       "    </tr>\n",
       "    <tr>\n",
       "      <th>1</th>\n",
       "      <td>1</td>\n",
       "      <td>1</td>\n",
       "      <td>Lab</td>\n",
       "      <td>0</td>\n",
       "      <td>0</td>\n",
       "      <td>John Swinney</td>\n",
       "      <td>0.4</td>\n",
       "      <td>The Secretary State talks of the lack of fuss ...</td>\n",
       "    </tr>\n",
       "    <tr>\n",
       "      <th>2</th>\n",
       "      <td>1</td>\n",
       "      <td>1</td>\n",
       "      <td>Lab</td>\n",
       "      <td>1</td>\n",
       "      <td>1</td>\n",
       "      <td>John McAllion</td>\n",
       "      <td>4.5</td>\n",
       "      <td>May I assure the right hon. Gentleman that he ...</td>\n",
       "    </tr>\n",
       "    <tr>\n",
       "      <th>3</th>\n",
       "      <td>1</td>\n",
       "      <td>1</td>\n",
       "      <td>Lab</td>\n",
       "      <td>0</td>\n",
       "      <td>1</td>\n",
       "      <td>Ian Davidson</td>\n",
       "      <td>3.1</td>\n",
       "      <td>Is the hon. Gentleman aware that, ever since t...</td>\n",
       "    </tr>\n",
       "    <tr>\n",
       "      <th>4</th>\n",
       "      <td>1</td>\n",
       "      <td>1</td>\n",
       "      <td>Lab</td>\n",
       "      <td>1</td>\n",
       "      <td>1</td>\n",
       "      <td>Maria Fyfe</td>\n",
       "      <td>2.3</td>\n",
       "      <td>The hon. Gentleman will notice that the Childr...</td>\n",
       "    </tr>\n",
       "  </tbody>\n",
       "</table>\n",
       "</div>"
      ],
      "text/plain": [
       "   manual motion  govt/opp motion motion party affiliation  manual speech  \\\n",
       "0              1                1                      Lab              0   \n",
       "1              1                1                      Lab              0   \n",
       "2              1                1                      Lab              1   \n",
       "3              1                1                      Lab              0   \n",
       "4              1                1                      Lab              1   \n",
       "\n",
       "   vote speech            name  rebellion %  \\\n",
       "0            0  Kevin McNamara          3.2   \n",
       "1            0    John Swinney          0.4   \n",
       "2            1   John McAllion          4.5   \n",
       "3            1    Ian Davidson          3.1   \n",
       "4            1      Maria Fyfe          2.3   \n",
       "\n",
       "                                              Concat  \n",
       "0  I trust that the House will not feel that ther...  \n",
       "1  The Secretary State talks of the lack of fuss ...  \n",
       "2  May I assure the right hon. Gentleman that he ...  \n",
       "3  Is the hon. Gentleman aware that, ever since t...  \n",
       "4  The hon. Gentleman will notice that the Childr...  "
      ]
     },
     "execution_count": 50,
     "metadata": {},
     "output_type": "execute_result"
    }
   ],
   "source": [
    "train_dataset = train_dataset.dropna(subset=['Concat'])\n",
    "slimmed_train_dataset = train_dataset.drop (columns=['utt1', 'utt2', 'utt3', 'utt4', 'utt5', 'title', 'motion', 'id', 'party affiliation',])\n",
    "slimmed_train_dataset.head()\n"
   ]
  },
  {
   "cell_type": "markdown",
   "metadata": {},
   "source": [
    "## Pre-processing"
   ]
  },
  {
   "cell_type": "markdown",
   "metadata": {},
   "source": [
    "nlp training data split (train, test, validate)"
   ]
  },
  {
   "cell_type": "code",
   "execution_count": 51,
   "metadata": {},
   "outputs": [],
   "source": [
    "test_dataset = slimmed_train_dataset[['manual speech', 'Concat']]\n"
   ]
  },
  {
   "cell_type": "code",
   "execution_count": 52,
   "metadata": {},
   "outputs": [
    {
     "name": "stdout",
     "output_type": "stream",
     "text": [
      "Training Set:\n",
      "      manual speech                                             Concat\n",
      "1093              1  As mentioned in the debate, the Committees on ...\n",
      "330               0  The hon. Lady has already conceded that she di...\n",
      "1106              1  It is all very well looking at the cost of bui...\n",
      "406               0  I thank the hon. Lady for giving way; she is b...\n",
      "181               0  I wish to amplify the concern, raised by my ho...\n",
      "\n",
      "Validation Set:\n",
      "      manual speech                                             Concat\n",
      "42                1  My constituency is far from London, but never ...\n",
      "511               1  The Minister brushed aside the question from m...\n",
      "546               1  Will the hon. Gentleman not acknowledge the tr...\n",
      "470               1  As my hon. Friend knows, Northwick Park is jus...\n",
      "1010              1  But does this not demonstrate why the Fixed-te...\n",
      "\n",
      "Test Set:\n",
      "      manual speech                                             Concat\n",
      "721               1  I agree very much with what the shadow Home Se...\n",
      "1243              1  It is a fair challenge to remind the Governmen...\n",
      "1067              1  We have had a lot of correspondence from local...\n",
      "901               1  In the 2016 autumn statement, 85% of the net s...\n",
      "1107              1  I congratulate the Prime Minister on her appoi...\n"
     ]
    }
   ],
   "source": [
    "\n",
    "# Split the dataset into training and test sets (80% train, 20% test)\n",
    "train_dataset, test_dataset = train_test_split(test_dataset, test_size=0.2, random_state=42)\n",
    "\n",
    "# Further split the training set into training and validation sets (80% train, 20% validation)\n",
    "train_dataset, val_dataset = train_test_split(train_dataset, test_size=0.25, random_state=42)  # 0.25 * 0.8 = 0.2\n",
    "\n",
    "# Display the first few rows of each set\n",
    "print(\"Training Set:\")\n",
    "print(train_dataset.head())\n",
    "print(\"\\nValidation Set:\")\n",
    "print(val_dataset.head())\n",
    "print(\"\\nTest Set:\")\n",
    "print(test_dataset.head())"
   ]
  },
  {
   "cell_type": "markdown",
   "metadata": {},
   "source": [
    "Set up simple model so we can test on the whole dataset"
   ]
  },
  {
   "cell_type": "code",
   "execution_count": 53,
   "metadata": {},
   "outputs": [
    {
     "name": "stdout",
     "output_type": "stream",
     "text": [
      "Validation Set Evaluation:\n",
      "              precision    recall  f1-score   support\n",
      "\n",
      "           0       0.63      0.36      0.45       104\n",
      "           1       0.65      0.85      0.74       146\n",
      "\n",
      "    accuracy                           0.64       250\n",
      "   macro avg       0.64      0.60      0.59       250\n",
      "weighted avg       0.64      0.64      0.62       250\n",
      "\n",
      "Test Set Evaluation:\n",
      "              precision    recall  f1-score   support\n",
      "\n",
      "           0       0.73      0.38      0.50       114\n",
      "           1       0.63      0.88      0.74       137\n",
      "\n",
      "    accuracy                           0.65       251\n",
      "   macro avg       0.68      0.63      0.62       251\n",
      "weighted avg       0.67      0.65      0.63       251\n",
      "\n"
     ]
    },
    {
     "data": {
      "text/plain": [
       "\"\\nto load the model use \\nmodel = joblib.load('logistic_regression_model.pkl')\\n\""
      ]
     },
     "execution_count": 53,
     "metadata": {},
     "output_type": "execute_result"
    }
   ],
   "source": [
    "\n",
    "# Vectorize the text data using TF-IDF\n",
    "vectorizer = TfidfVectorizer(max_features=5000)\n",
    "X_train = vectorizer.fit_transform(train_dataset['Concat'])\n",
    "X_val = vectorizer.transform(val_dataset['Concat'])\n",
    "X_test = vectorizer.transform(test_dataset['Concat'])\n",
    "\n",
    "# Get the target values\n",
    "y_train = train_dataset['manual speech']\n",
    "y_val = val_dataset['manual speech']\n",
    "y_test = test_dataset['manual speech']\n",
    "\n",
    "# Train a Logistic Regression model\n",
    "model = LogisticRegression()\n",
    "model.fit(X_train, y_train)\n",
    "\n",
    "# Evaluate the model on the validation set\n",
    "val_predictions = model.predict(X_val)\n",
    "print(\"Validation Set Evaluation:\")\n",
    "print(classification_report(y_val, val_predictions))\n",
    "\n",
    "# Evaluate the model on the test set\n",
    "test_predictions = model.predict(X_test)\n",
    "print(\"Test Set Evaluation:\")\n",
    "print(classification_report(y_test, test_predictions))\n",
    "\n",
    "joblib.dump(model, 'logistic_regression_model.pkl')\n",
    "\n",
    "'''\n",
    "to load the model use \n",
    "model = joblib.load('logistic_regression_model.pkl')\n",
    "'''\n",
    "\n"
   ]
  },
  {
   "cell_type": "markdown",
   "metadata": {},
   "source": [
    "Train nlp model\n",
    "If we are going to use the keras from the "
   ]
  },
  {
   "cell_type": "code",
   "execution_count": null,
   "metadata": {},
   "outputs": [],
   "source": []
  },
  {
   "cell_type": "markdown",
   "metadata": {},
   "source": [
    "Assess model"
   ]
  },
  {
   "cell_type": "markdown",
   "metadata": {},
   "source": [
    "At this point break out to another group to use trained model on nthe unlabelled data"
   ]
  }
 ],
 "metadata": {
  "kernelspec": {
   "display_name": "nlp_ner",
   "language": "python",
   "name": "python3"
  },
  "language_info": {
   "codemirror_mode": {
    "name": "ipython",
    "version": 3
   },
   "file_extension": ".py",
   "mimetype": "text/x-python",
   "name": "python",
   "nbconvert_exporter": "python",
   "pygments_lexer": "ipython3",
   "version": "3.11.4"
  }
 },
 "nbformat": 4,
 "nbformat_minor": 2
}
