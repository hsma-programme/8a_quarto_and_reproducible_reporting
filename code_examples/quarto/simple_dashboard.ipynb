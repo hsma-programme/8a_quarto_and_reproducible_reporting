{
  "cells": [
    {
      "cell_type": "raw",
      "metadata": {},
      "source": [
        "---\n",
        "title: \"Penguins\"\n",
        "format:\n",
        "    html:\n",
        "        toc: true\n",
        "        toc_float: true\n",
        "---"
      ],
      "id": "b81cc38b"
    },
    {
      "cell_type": "code",
      "metadata": {},
      "source": [
        "#| label: library-imports\n",
        "\n",
        "import pandas as pd\n",
        "from palmer_penguins import load_data"
      ],
      "id": "library-imports",
      "execution_count": null,
      "outputs": []
    },
    {
      "cell_type": "code",
      "metadata": {},
      "source": [
        "#| label: data-imports\n",
        "\n",
        "penguins_df = load_data()"
      ],
      "id": "data-imports",
      "execution_count": null,
      "outputs": []
    }
  ],
  "metadata": {
    "kernelspec": {
      "name": "python3",
      "language": "python",
      "display_name": "Python 3 (ipykernel)"
    }
  },
  "nbformat": 4,
  "nbformat_minor": 5
}